{
 "cells": [
  {
   "cell_type": "markdown",
   "id": "33231ca8-8ed2-400e-8303-cc1aac889338",
   "metadata": {},
   "source": [
    "### Import necessary libraries"
   ]
  },
  {
   "cell_type": "code",
   "execution_count": 1,
   "id": "85689de8-f69d-4f74-9837-36192f706934",
   "metadata": {},
   "outputs": [],
   "source": [
    "import math\n",
    "import datetime\n",
    "\n",
    "import numpy as np\n",
    "import pandas as pd\n",
    "\n",
    "from matplotlib import pyplot as plt"
   ]
  },
  {
   "cell_type": "markdown",
   "id": "b6d9f61d-555f-481b-8362-520942c9fb72",
   "metadata": {},
   "source": [
    "### Set up the depreication rate per year."
   ]
  },
  {
   "cell_type": "code",
   "execution_count": 2,
   "id": "b48973f3-f770-4788-8a98-6c92df06cb9b",
   "metadata": {},
   "outputs": [],
   "source": [
    "depreciation_rate = 0.1"
   ]
  },
  {
   "cell_type": "markdown",
   "id": "718168e8-455b-4ef3-a7e1-19ae9d5aa464",
   "metadata": {},
   "source": [
    "### Define the Depreciation Function given the point and the rate"
   ]
  },
  {
   "cell_type": "code",
   "execution_count": 3,
   "id": "3c0a2d89-6e44-411c-a1d1-62616fb74389",
   "metadata": {},
   "outputs": [],
   "source": [
    "def depreciation(point,rate,date_point_earned):\n",
    "    if type(date_point_earned)==str:\n",
    "        date_point_earned = datetime.datetime.strptime(date_point_earned,'%Y-%m-%d').date()\n",
    "    time_elapsed = (datetime.datetime.today().date()-date_point_earned).days / 365\n",
    "    new_point = point * np.exp(-rate*time_elapsed)\n",
    "    new_point = int(round(new_point,0))\n",
    "    return new_point\n",
    "\n",
    "def depreciation_given_rate(x):\n",
    "    date = x[0]\n",
    "    point = x[1]\n",
    "    return depreciation(point,depreciation_rate,date)"
   ]
  },
  {
   "cell_type": "markdown",
   "id": "1c48961a-b5fa-4bb9-8b4a-ff526096fdf4",
   "metadata": {},
   "source": [
    "### Example"
   ]
  },
  {
   "cell_type": "code",
   "execution_count": 4,
   "id": "d9b2e9ae-3c68-4159-b650-05c5d2ec0ea6",
   "metadata": {},
   "outputs": [],
   "source": [
    "df = pd.DataFrame(data={'date':['2020-01-20','2020-03-22','2020-07-12','2020-12-10','2021-01-03','2021-03-25','2021-06-22','2021-08-21'],'point_earned':[1000,1500,500,500,2000,1000,250,500]})"
   ]
  },
  {
   "cell_type": "code",
   "execution_count": 5,
   "id": "9eee031b-503c-4f3c-9a8a-c8c3707c654f",
   "metadata": {},
   "outputs": [],
   "source": [
    "df['point_today'] = df.apply(depreciation_given_rate,axis=1)"
   ]
  },
  {
   "cell_type": "code",
   "execution_count": 6,
   "id": "f9841ec8-70af-44b4-b79f-82f4762d7f10",
   "metadata": {},
   "outputs": [
    {
     "data": {
      "text/html": [
       "<div>\n",
       "<style scoped>\n",
       "    .dataframe tbody tr th:only-of-type {\n",
       "        vertical-align: middle;\n",
       "    }\n",
       "\n",
       "    .dataframe tbody tr th {\n",
       "        vertical-align: top;\n",
       "    }\n",
       "\n",
       "    .dataframe thead th {\n",
       "        text-align: right;\n",
       "    }\n",
       "</style>\n",
       "<table border=\"1\" class=\"dataframe\">\n",
       "  <thead>\n",
       "    <tr style=\"text-align: right;\">\n",
       "      <th></th>\n",
       "      <th>date</th>\n",
       "      <th>point_earned</th>\n",
       "      <th>point_today</th>\n",
       "    </tr>\n",
       "  </thead>\n",
       "  <tbody>\n",
       "    <tr>\n",
       "      <th>0</th>\n",
       "      <td>2020-01-20</td>\n",
       "      <td>1000</td>\n",
       "      <td>832</td>\n",
       "    </tr>\n",
       "    <tr>\n",
       "      <th>1</th>\n",
       "      <td>2020-03-22</td>\n",
       "      <td>1500</td>\n",
       "      <td>1270</td>\n",
       "    </tr>\n",
       "    <tr>\n",
       "      <th>2</th>\n",
       "      <td>2020-07-12</td>\n",
       "      <td>500</td>\n",
       "      <td>436</td>\n",
       "    </tr>\n",
       "    <tr>\n",
       "      <th>3</th>\n",
       "      <td>2020-12-10</td>\n",
       "      <td>500</td>\n",
       "      <td>455</td>\n",
       "    </tr>\n",
       "    <tr>\n",
       "      <th>4</th>\n",
       "      <td>2021-01-03</td>\n",
       "      <td>2000</td>\n",
       "      <td>1832</td>\n",
       "    </tr>\n",
       "    <tr>\n",
       "      <th>5</th>\n",
       "      <td>2021-03-25</td>\n",
       "      <td>1000</td>\n",
       "      <td>936</td>\n",
       "    </tr>\n",
       "    <tr>\n",
       "      <th>6</th>\n",
       "      <td>2021-06-22</td>\n",
       "      <td>250</td>\n",
       "      <td>240</td>\n",
       "    </tr>\n",
       "    <tr>\n",
       "      <th>7</th>\n",
       "      <td>2021-08-21</td>\n",
       "      <td>500</td>\n",
       "      <td>488</td>\n",
       "    </tr>\n",
       "  </tbody>\n",
       "</table>\n",
       "</div>"
      ],
      "text/plain": [
       "         date  point_earned  point_today\n",
       "0  2020-01-20          1000          832\n",
       "1  2020-03-22          1500         1270\n",
       "2  2020-07-12           500          436\n",
       "3  2020-12-10           500          455\n",
       "4  2021-01-03          2000         1832\n",
       "5  2021-03-25          1000          936\n",
       "6  2021-06-22           250          240\n",
       "7  2021-08-21           500          488"
      ]
     },
     "execution_count": 6,
     "metadata": {},
     "output_type": "execute_result"
    }
   ],
   "source": [
    "df"
   ]
  },
  {
   "cell_type": "code",
   "execution_count": null,
   "id": "40333541-8825-49bc-a5da-b0c338768489",
   "metadata": {},
   "outputs": [],
   "source": []
  },
  {
   "cell_type": "code",
   "execution_count": null,
   "id": "123b7c69-13b2-47a6-a9cc-5298278e41b8",
   "metadata": {},
   "outputs": [],
   "source": []
  }
 ],
 "metadata": {
  "interpreter": {
   "hash": "7509e7ef5eb6f6db4d48c2d4b411ad3393fc9c0b0016b34eda904ee63b97cb5f"
  },
  "kernelspec": {
   "display_name": "chainlink_hackathon",
   "language": "python",
   "name": "python3"
  },
  "language_info": {
   "codemirror_mode": {
    "name": "ipython",
    "version": 3
   },
   "file_extension": ".py",
   "mimetype": "text/x-python",
   "name": "python",
   "nbconvert_exporter": "python",
   "pygments_lexer": "ipython3",
   "version": "3.8.10"
  }
 },
 "nbformat": 4,
 "nbformat_minor": 5
}
