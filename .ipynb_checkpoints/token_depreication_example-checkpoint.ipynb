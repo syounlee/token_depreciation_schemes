{
 "cells": [
  {
   "cell_type": "markdown",
   "id": "33231ca8-8ed2-400e-8303-cc1aac889338",
   "metadata": {},
   "source": [
    "### Import necessary libraries"
   ]
  },
  {
   "cell_type": "code",
   "execution_count": 1,
   "id": "85689de8-f69d-4f74-9837-36192f706934",
   "metadata": {},
   "outputs": [],
   "source": [
    "import math\n",
    "import datetime\n",
    "\n",
    "import numpy as np\n",
    "import pandas as pd\n",
    "\n",
    "from matplotlib import pyplot as plt"
   ]
  },
  {
   "cell_type": "markdown",
   "id": "b6d9f61d-555f-481b-8362-520942c9fb72",
   "metadata": {},
   "source": [
    "### Set up the depreication rate per year."
   ]
  },
  {
   "cell_type": "code",
   "execution_count": 2,
   "id": "b48973f3-f770-4788-8a98-6c92df06cb9b",
   "metadata": {},
   "outputs": [],
   "source": [
    "depreciation_rate = 0.1"
   ]
  },
  {
   "cell_type": "markdown",
   "id": "718168e8-455b-4ef3-a7e1-19ae9d5aa464",
   "metadata": {},
   "source": [
    "### Define the Depreciation Function given the point and the rate\n",
    "\n",
    "$$\n",
    "f(p,r,d) = p \\times e^{-r \\cdot (today-d)}\n",
    "$$\n",
    "where p is the point to be depreciated, r is the depreciation rate per annum, and d is the date the point was earned."
   ]
  },
  {
   "cell_type": "code",
   "execution_count": 3,
   "id": "3c0a2d89-6e44-411c-a1d1-62616fb74389",
   "metadata": {},
   "outputs": [],
   "source": [
    "def depreciation(point,rate,date_point_earned):\n",
    "    if type(date_point_earned)==str:\n",
    "        date_point_earned = datetime.datetime.strptime(date_point_earned,'%Y-%m-%d').date()\n",
    "    time_elapsed = (datetime.datetime.today().date()-date_point_earned).days / 365\n",
    "    new_point = point * np.exp(-rate*time_elapsed)\n",
    "    new_point = int(round(new_point,0))\n",
    "    return new_point\n",
    "\n",
    "def depreciation_given_rate(x):\n",
    "    date = x[0]\n",
    "    point = x[1]\n",
    "    return depreciation(point,depreciation_rate,date)"
   ]
  },
  {
   "cell_type": "markdown",
   "id": "1c48961a-b5fa-4bb9-8b4a-ff526096fdf4",
   "metadata": {},
   "source": [
    "### Example"
   ]
  },
  {
   "cell_type": "code",
   "execution_count": 6,
   "id": "c1811b66-ab80-4bb5-af8c-c50799050e5f",
   "metadata": {},
   "outputs": [],
   "source": [
    "df = pd.DataFrame(data={'date':['2020-01-20','2020-03-22','2020-07-12','2020-12-10','2021-01-03','2021-03-25','2021-06-22','2021-08-21'],'point_earned':[1000,1500,500,500,2000,1000,250,500]})\n",
    "\n",
    "df['point_today'] = df.apply(depreciation_given_rate,axis=1)\n",
    "\n",
    "df"
   ]
  },
  {
   "cell_type": "code",
   "execution_count": null,
   "id": "40333541-8825-49bc-a5da-b0c338768489",
   "metadata": {},
   "outputs": [],
   "source": []
  },
  {
   "cell_type": "code",
   "execution_count": null,
   "id": "123b7c69-13b2-47a6-a9cc-5298278e41b8",
   "metadata": {},
   "outputs": [],
   "source": []
  }
 ],
 "metadata": {
  "interpreter": {
   "hash": "7509e7ef5eb6f6db4d48c2d4b411ad3393fc9c0b0016b34eda904ee63b97cb5f"
  },
  "kernelspec": {
   "display_name": "Python 3 (ipykernel)",
   "language": "python",
   "name": "python3"
  },
  "language_info": {
   "codemirror_mode": {
    "name": "ipython",
    "version": 3
   },
   "file_extension": ".py",
   "mimetype": "text/x-python",
   "name": "python",
   "nbconvert_exporter": "python",
   "pygments_lexer": "ipython3",
   "version": "3.8.10"
  }
 },
 "nbformat": 4,
 "nbformat_minor": 5
}
